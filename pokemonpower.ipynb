{
 "cells": [
  {
   "cell_type": "code",
   "execution_count": 1,
   "id": "d99992de",
   "metadata": {
    "_cell_guid": "b1076dfc-b9ad-4769-8c92-a6c4dae69d19",
    "_uuid": "8f2839f25d086af736a60e9eeb907d3b93b6e0e5",
    "execution": {
     "iopub.execute_input": "2024-05-04T17:49:42.285021Z",
     "iopub.status.busy": "2024-05-04T17:49:42.284326Z",
     "iopub.status.idle": "2024-05-04T17:49:43.528107Z",
     "shell.execute_reply": "2024-05-04T17:49:43.526181Z"
    },
    "papermill": {
     "duration": 1.259492,
     "end_time": "2024-05-04T17:49:43.531482",
     "exception": false,
     "start_time": "2024-05-04T17:49:42.271990",
     "status": "completed"
    },
    "tags": []
   },
   "outputs": [
    {
     "name": "stdout",
     "output_type": "stream",
     "text": [
      "/kaggle/input/pokmon-combat-power-prediction/pokemon.csv\n"
     ]
    }
   ],
   "source": [
    "# This Python 3 environment comes with many helpful analytics libraries installed\n",
    "# It is defined by the kaggle/python Docker image: https://github.com/kaggle/docker-python\n",
    "# For example, here's several helpful packages to load\n",
    "\n",
    "import numpy as np # linear algebra\n",
    "import pandas as pd # data processing, CSV file I/O (e.g. pd.read_csv)\n",
    "\n",
    "# Input data files are available in the read-only \"../input/\" directory\n",
    "# For example, running this (by clicking run or pressing Shift+Enter) will list all files under the input directory\n",
    "\n",
    "import os\n",
    "for dirname, _, filenames in os.walk('/kaggle/input'):\n",
    "    for filename in filenames:\n",
    "        print(os.path.join(dirname, filename))\n",
    "\n",
    "# You can write up to 20GB to the current directory (/kaggle/working/) that gets preserved as output when you create a version using \"Save & Run All\" \n",
    "# You can also write temporary files to /kaggle/temp/, but they won't be saved outside of the current session"
   ]
  },
  {
   "cell_type": "code",
   "execution_count": 2,
   "id": "6fb04803",
   "metadata": {
    "execution": {
     "iopub.execute_input": "2024-05-04T17:49:43.553354Z",
     "iopub.status.busy": "2024-05-04T17:49:43.552759Z",
     "iopub.status.idle": "2024-05-04T17:49:43.579492Z",
     "shell.execute_reply": "2024-05-04T17:49:43.577966Z"
    },
    "papermill": {
     "duration": 0.040904,
     "end_time": "2024-05-04T17:49:43.582519",
     "exception": false,
     "start_time": "2024-05-04T17:49:43.541615",
     "status": "completed"
    },
    "tags": []
   },
   "outputs": [],
   "source": [
    "url = \"/kaggle/input/pokmon-combat-power-prediction/pokemon.csv\"\n",
    "data = pd.read_csv(url)"
   ]
  },
  {
   "cell_type": "code",
   "execution_count": 3,
   "id": "7d854a81",
   "metadata": {
    "execution": {
     "iopub.execute_input": "2024-05-04T17:49:43.609524Z",
     "iopub.status.busy": "2024-05-04T17:49:43.608258Z",
     "iopub.status.idle": "2024-05-04T17:49:43.641836Z",
     "shell.execute_reply": "2024-05-04T17:49:43.640814Z"
    },
    "papermill": {
     "duration": 0.04884,
     "end_time": "2024-05-04T17:49:43.644138",
     "exception": false,
     "start_time": "2024-05-04T17:49:43.595298",
     "status": "completed"
    },
    "tags": []
   },
   "outputs": [
    {
     "data": {
      "text/html": [
       "<div>\n",
       "<style scoped>\n",
       "    .dataframe tbody tr th:only-of-type {\n",
       "        vertical-align: middle;\n",
       "    }\n",
       "\n",
       "    .dataframe tbody tr th {\n",
       "        vertical-align: top;\n",
       "    }\n",
       "\n",
       "    .dataframe thead th {\n",
       "        text-align: right;\n",
       "    }\n",
       "</style>\n",
       "<table border=\"1\" class=\"dataframe\">\n",
       "  <thead>\n",
       "    <tr style=\"text-align: right;\">\n",
       "      <th></th>\n",
       "      <th>Name</th>\n",
       "      <th>Type 1</th>\n",
       "      <th>Type 2</th>\n",
       "      <th>Combat Power</th>\n",
       "      <th>HP</th>\n",
       "      <th>Attack</th>\n",
       "      <th>Defense</th>\n",
       "      <th>Sp. Atk</th>\n",
       "      <th>Sp. Def</th>\n",
       "      <th>Speed</th>\n",
       "      <th>Generation</th>\n",
       "      <th>Legendary</th>\n",
       "    </tr>\n",
       "  </thead>\n",
       "  <tbody>\n",
       "    <tr>\n",
       "      <th>0</th>\n",
       "      <td>Bulbasaur</td>\n",
       "      <td>Grass</td>\n",
       "      <td>Poison</td>\n",
       "      <td>318</td>\n",
       "      <td>45</td>\n",
       "      <td>49</td>\n",
       "      <td>49</td>\n",
       "      <td>65</td>\n",
       "      <td>65</td>\n",
       "      <td>45</td>\n",
       "      <td>1</td>\n",
       "      <td>False</td>\n",
       "    </tr>\n",
       "    <tr>\n",
       "      <th>1</th>\n",
       "      <td>Ivysaur</td>\n",
       "      <td>Grass</td>\n",
       "      <td>Poison</td>\n",
       "      <td>405</td>\n",
       "      <td>60</td>\n",
       "      <td>62</td>\n",
       "      <td>63</td>\n",
       "      <td>80</td>\n",
       "      <td>80</td>\n",
       "      <td>60</td>\n",
       "      <td>1</td>\n",
       "      <td>False</td>\n",
       "    </tr>\n",
       "    <tr>\n",
       "      <th>2</th>\n",
       "      <td>Venusaur</td>\n",
       "      <td>Grass</td>\n",
       "      <td>Poison</td>\n",
       "      <td>525</td>\n",
       "      <td>80</td>\n",
       "      <td>82</td>\n",
       "      <td>83</td>\n",
       "      <td>100</td>\n",
       "      <td>100</td>\n",
       "      <td>80</td>\n",
       "      <td>1</td>\n",
       "      <td>False</td>\n",
       "    </tr>\n",
       "    <tr>\n",
       "      <th>3</th>\n",
       "      <td>Charmander</td>\n",
       "      <td>Fire</td>\n",
       "      <td>NaN</td>\n",
       "      <td>309</td>\n",
       "      <td>39</td>\n",
       "      <td>52</td>\n",
       "      <td>43</td>\n",
       "      <td>60</td>\n",
       "      <td>50</td>\n",
       "      <td>65</td>\n",
       "      <td>1</td>\n",
       "      <td>False</td>\n",
       "    </tr>\n",
       "    <tr>\n",
       "      <th>4</th>\n",
       "      <td>Charmeleon</td>\n",
       "      <td>Fire</td>\n",
       "      <td>NaN</td>\n",
       "      <td>405</td>\n",
       "      <td>58</td>\n",
       "      <td>64</td>\n",
       "      <td>58</td>\n",
       "      <td>80</td>\n",
       "      <td>65</td>\n",
       "      <td>80</td>\n",
       "      <td>1</td>\n",
       "      <td>False</td>\n",
       "    </tr>\n",
       "  </tbody>\n",
       "</table>\n",
       "</div>"
      ],
      "text/plain": [
       "         Name Type 1  Type 2  Combat Power  HP  Attack  Defense  Sp. Atk  \\\n",
       "0   Bulbasaur  Grass  Poison           318  45      49       49       65   \n",
       "1     Ivysaur  Grass  Poison           405  60      62       63       80   \n",
       "2    Venusaur  Grass  Poison           525  80      82       83      100   \n",
       "3  Charmander   Fire     NaN           309  39      52       43       60   \n",
       "4  Charmeleon   Fire     NaN           405  58      64       58       80   \n",
       "\n",
       "   Sp. Def  Speed  Generation  Legendary  \n",
       "0       65     45           1      False  \n",
       "1       80     60           1      False  \n",
       "2      100     80           1      False  \n",
       "3       50     65           1      False  \n",
       "4       65     80           1      False  "
      ]
     },
     "execution_count": 3,
     "metadata": {},
     "output_type": "execute_result"
    }
   ],
   "source": [
    "data.head()"
   ]
  },
  {
   "cell_type": "code",
   "execution_count": 4,
   "id": "575ef932",
   "metadata": {
    "execution": {
     "iopub.execute_input": "2024-05-04T17:49:43.666561Z",
     "iopub.status.busy": "2024-05-04T17:49:43.665594Z",
     "iopub.status.idle": "2024-05-04T17:49:43.673447Z",
     "shell.execute_reply": "2024-05-04T17:49:43.672216Z"
    },
    "papermill": {
     "duration": 0.021653,
     "end_time": "2024-05-04T17:49:43.675966",
     "exception": false,
     "start_time": "2024-05-04T17:49:43.654313",
     "status": "completed"
    },
    "tags": []
   },
   "outputs": [
    {
     "data": {
      "text/plain": [
       "(151, 12)"
      ]
     },
     "execution_count": 4,
     "metadata": {},
     "output_type": "execute_result"
    }
   ],
   "source": [
    "data.shape"
   ]
  },
  {
   "cell_type": "code",
   "execution_count": 5,
   "id": "1dcb930f",
   "metadata": {
    "execution": {
     "iopub.execute_input": "2024-05-04T17:49:43.700154Z",
     "iopub.status.busy": "2024-05-04T17:49:43.699475Z",
     "iopub.status.idle": "2024-05-04T17:49:43.707939Z",
     "shell.execute_reply": "2024-05-04T17:49:43.706777Z"
    },
    "papermill": {
     "duration": 0.022702,
     "end_time": "2024-05-04T17:49:43.710433",
     "exception": false,
     "start_time": "2024-05-04T17:49:43.687731",
     "status": "completed"
    },
    "tags": []
   },
   "outputs": [
    {
     "data": {
      "text/plain": [
       "Index(['Name', 'Type 1', 'Type 2', 'Combat Power', 'HP', 'Attack', 'Defense',\n",
       "       'Sp. Atk', 'Sp. Def', 'Speed', 'Generation', 'Legendary'],\n",
       "      dtype='object')"
      ]
     },
     "execution_count": 5,
     "metadata": {},
     "output_type": "execute_result"
    }
   ],
   "source": [
    "data.columns"
   ]
  },
  {
   "cell_type": "code",
   "execution_count": 6,
   "id": "51b9b968",
   "metadata": {
    "execution": {
     "iopub.execute_input": "2024-05-04T17:49:43.734500Z",
     "iopub.status.busy": "2024-05-04T17:49:43.734053Z",
     "iopub.status.idle": "2024-05-04T17:49:43.743235Z",
     "shell.execute_reply": "2024-05-04T17:49:43.742020Z"
    },
    "papermill": {
     "duration": 0.023707,
     "end_time": "2024-05-04T17:49:43.745886",
     "exception": false,
     "start_time": "2024-05-04T17:49:43.722179",
     "status": "completed"
    },
    "tags": []
   },
   "outputs": [
    {
     "data": {
      "text/plain": [
       "<bound method Series.unique of 0       Bulbasaur\n",
       "1         Ivysaur\n",
       "2        Venusaur\n",
       "3      Charmander\n",
       "4      Charmeleon\n",
       "          ...    \n",
       "146       Dratini\n",
       "147     Dragonair\n",
       "148     Dragonite\n",
       "149        Mewtwo\n",
       "150           Mew\n",
       "Name: Name, Length: 151, dtype: object>"
      ]
     },
     "execution_count": 6,
     "metadata": {},
     "output_type": "execute_result"
    }
   ],
   "source": [
    "data['Name'].unique"
   ]
  },
  {
   "cell_type": "code",
   "execution_count": 7,
   "id": "87d9b190",
   "metadata": {
    "execution": {
     "iopub.execute_input": "2024-05-04T17:49:43.772456Z",
     "iopub.status.busy": "2024-05-04T17:49:43.771157Z",
     "iopub.status.idle": "2024-05-04T17:49:43.776725Z",
     "shell.execute_reply": "2024-05-04T17:49:43.775637Z"
    },
    "papermill": {
     "duration": 0.021733,
     "end_time": "2024-05-04T17:49:43.779448",
     "exception": false,
     "start_time": "2024-05-04T17:49:43.757715",
     "status": "completed"
    },
    "tags": []
   },
   "outputs": [],
   "source": [
    "df = data.copy()"
   ]
  },
  {
   "cell_type": "code",
   "execution_count": null,
   "id": "e874f76f",
   "metadata": {
    "papermill": {
     "duration": 0.011618,
     "end_time": "2024-05-04T17:49:43.802834",
     "exception": false,
     "start_time": "2024-05-04T17:49:43.791216",
     "status": "completed"
    },
    "tags": []
   },
   "outputs": [],
   "source": []
  },
  {
   "cell_type": "code",
   "execution_count": 8,
   "id": "00c8cc5e",
   "metadata": {
    "execution": {
     "iopub.execute_input": "2024-05-04T17:49:43.828536Z",
     "iopub.status.busy": "2024-05-04T17:49:43.827398Z",
     "iopub.status.idle": "2024-05-04T17:49:45.341635Z",
     "shell.execute_reply": "2024-05-04T17:49:45.340676Z"
    },
    "papermill": {
     "duration": 1.530308,
     "end_time": "2024-05-04T17:49:45.344459",
     "exception": false,
     "start_time": "2024-05-04T17:49:43.814151",
     "status": "completed"
    },
    "tags": []
   },
   "outputs": [],
   "source": [
    "from sklearn.preprocessing import LabelEncoder\n",
    "encode = LabelEncoder()"
   ]
  },
  {
   "cell_type": "code",
   "execution_count": 9,
   "id": "eaaffbc3",
   "metadata": {
    "execution": {
     "iopub.execute_input": "2024-05-04T17:49:45.368285Z",
     "iopub.status.busy": "2024-05-04T17:49:45.367116Z",
     "iopub.status.idle": "2024-05-04T17:49:45.389178Z",
     "shell.execute_reply": "2024-05-04T17:49:45.387943Z"
    },
    "papermill": {
     "duration": 0.037103,
     "end_time": "2024-05-04T17:49:45.392219",
     "exception": false,
     "start_time": "2024-05-04T17:49:45.355116",
     "status": "completed"
    },
    "tags": []
   },
   "outputs": [
    {
     "data": {
      "text/html": [
       "<div>\n",
       "<style scoped>\n",
       "    .dataframe tbody tr th:only-of-type {\n",
       "        vertical-align: middle;\n",
       "    }\n",
       "\n",
       "    .dataframe tbody tr th {\n",
       "        vertical-align: top;\n",
       "    }\n",
       "\n",
       "    .dataframe thead th {\n",
       "        text-align: right;\n",
       "    }\n",
       "</style>\n",
       "<table border=\"1\" class=\"dataframe\">\n",
       "  <thead>\n",
       "    <tr style=\"text-align: right;\">\n",
       "      <th></th>\n",
       "      <th>Name</th>\n",
       "      <th>Type 1</th>\n",
       "      <th>Type 2</th>\n",
       "      <th>Combat Power</th>\n",
       "      <th>HP</th>\n",
       "      <th>Attack</th>\n",
       "      <th>Defense</th>\n",
       "      <th>Sp. Atk</th>\n",
       "      <th>Sp. Def</th>\n",
       "      <th>Speed</th>\n",
       "      <th>Generation</th>\n",
       "      <th>Legendary</th>\n",
       "    </tr>\n",
       "  </thead>\n",
       "  <tbody>\n",
       "    <tr>\n",
       "      <th>0</th>\n",
       "      <td>9</td>\n",
       "      <td>7</td>\n",
       "      <td>6</td>\n",
       "      <td>318</td>\n",
       "      <td>45</td>\n",
       "      <td>49</td>\n",
       "      <td>49</td>\n",
       "      <td>65</td>\n",
       "      <td>65</td>\n",
       "      <td>45</td>\n",
       "      <td>1</td>\n",
       "      <td>0</td>\n",
       "    </tr>\n",
       "    <tr>\n",
       "      <th>1</th>\n",
       "      <td>56</td>\n",
       "      <td>7</td>\n",
       "      <td>6</td>\n",
       "      <td>405</td>\n",
       "      <td>60</td>\n",
       "      <td>62</td>\n",
       "      <td>63</td>\n",
       "      <td>80</td>\n",
       "      <td>80</td>\n",
       "      <td>60</td>\n",
       "      <td>1</td>\n",
       "      <td>0</td>\n",
       "    </tr>\n",
       "    <tr>\n",
       "      <th>2</th>\n",
       "      <td>139</td>\n",
       "      <td>7</td>\n",
       "      <td>6</td>\n",
       "      <td>525</td>\n",
       "      <td>80</td>\n",
       "      <td>82</td>\n",
       "      <td>83</td>\n",
       "      <td>100</td>\n",
       "      <td>100</td>\n",
       "      <td>80</td>\n",
       "      <td>1</td>\n",
       "      <td>0</td>\n",
       "    </tr>\n",
       "    <tr>\n",
       "      <th>3</th>\n",
       "      <td>14</td>\n",
       "      <td>5</td>\n",
       "      <td>11</td>\n",
       "      <td>309</td>\n",
       "      <td>39</td>\n",
       "      <td>52</td>\n",
       "      <td>43</td>\n",
       "      <td>60</td>\n",
       "      <td>50</td>\n",
       "      <td>65</td>\n",
       "      <td>1</td>\n",
       "      <td>0</td>\n",
       "    </tr>\n",
       "    <tr>\n",
       "      <th>4</th>\n",
       "      <td>15</td>\n",
       "      <td>5</td>\n",
       "      <td>11</td>\n",
       "      <td>405</td>\n",
       "      <td>58</td>\n",
       "      <td>64</td>\n",
       "      <td>58</td>\n",
       "      <td>80</td>\n",
       "      <td>65</td>\n",
       "      <td>80</td>\n",
       "      <td>1</td>\n",
       "      <td>0</td>\n",
       "    </tr>\n",
       "  </tbody>\n",
       "</table>\n",
       "</div>"
      ],
      "text/plain": [
       "   Name  Type 1  Type 2  Combat Power  HP  Attack  Defense  Sp. Atk  Sp. Def  \\\n",
       "0     9       7       6           318  45      49       49       65       65   \n",
       "1    56       7       6           405  60      62       63       80       80   \n",
       "2   139       7       6           525  80      82       83      100      100   \n",
       "3    14       5      11           309  39      52       43       60       50   \n",
       "4    15       5      11           405  58      64       58       80       65   \n",
       "\n",
       "   Speed  Generation  Legendary  \n",
       "0     45           1          0  \n",
       "1     60           1          0  \n",
       "2     80           1          0  \n",
       "3     65           1          0  \n",
       "4     80           1          0  "
      ]
     },
     "execution_count": 9,
     "metadata": {},
     "output_type": "execute_result"
    }
   ],
   "source": [
    "for i in ['Name', 'Type 1', 'Type 2', 'Legendary']:\n",
    "    df[i] = encode.fit_transform(df[i])\n",
    "df.head()"
   ]
  },
  {
   "cell_type": "code",
   "execution_count": 10,
   "id": "59609c75",
   "metadata": {
    "execution": {
     "iopub.execute_input": "2024-05-04T17:49:45.417359Z",
     "iopub.status.busy": "2024-05-04T17:49:45.416263Z",
     "iopub.status.idle": "2024-05-04T17:49:46.505507Z",
     "shell.execute_reply": "2024-05-04T17:49:46.504230Z"
    },
    "papermill": {
     "duration": 1.105473,
     "end_time": "2024-05-04T17:49:46.508700",
     "exception": false,
     "start_time": "2024-05-04T17:49:45.403227",
     "status": "completed"
    },
    "tags": []
   },
   "outputs": [
    {
     "data": {
      "text/plain": [
       "<Axes: >"
      ]
     },
     "execution_count": 10,
     "metadata": {},
     "output_type": "execute_result"
    },
    {
     "data": {
      "image/png": "[encoded data removed]",
      "text/plain": [
       "<Figure size 640x480 with 2 Axes>"
      ]
     },
     "metadata": {},
     "output_type": "display_data"
    }
   ],
   "source": [
    "import seaborn as sns\n",
    "sns.heatmap(df.corr())"
   ]
  },
  {
   "cell_type": "code",
   "execution_count": 11,
   "id": "87737629",
   "metadata": {
    "execution": {
     "iopub.execute_input": "2024-05-04T17:49:46.537094Z",
     "iopub.status.busy": "2024-05-04T17:49:46.536566Z",
     "iopub.status.idle": "2024-05-04T17:49:46.542595Z",
     "shell.execute_reply": "2024-05-04T17:49:46.541269Z"
    },
    "papermill": {
     "duration": 0.023116,
     "end_time": "2024-05-04T17:49:46.545248",
     "exception": false,
     "start_time": "2024-05-04T17:49:46.522132",
     "status": "completed"
    },
    "tags": []
   },
   "outputs": [],
   "source": [
    "selected_features = ['Name','Type 1','Type 2','HP','Defense','Speed','Legendary']"
   ]
  },
  {
   "cell_type": "code",
   "execution_count": 12,
   "id": "0c9de3e0",
   "metadata": {
    "execution": {
     "iopub.execute_input": "2024-05-04T17:49:46.571279Z",
     "iopub.status.busy": "2024-05-04T17:49:46.570847Z",
     "iopub.status.idle": "2024-05-04T17:49:46.580351Z",
     "shell.execute_reply": "2024-05-04T17:49:46.577898Z"
    },
    "papermill": {
     "duration": 0.026638,
     "end_time": "2024-05-04T17:49:46.583610",
     "exception": false,
     "start_time": "2024-05-04T17:49:46.556972",
     "status": "completed"
    },
    "tags": []
   },
   "outputs": [],
   "source": [
    "X = df[selected_features]\n",
    "Y = df['Combat Power']"
   ]
  },
  {
   "cell_type": "code",
   "execution_count": 13,
   "id": "72f7322a",
   "metadata": {
    "execution": {
     "iopub.execute_input": "2024-05-04T17:49:46.610869Z",
     "iopub.status.busy": "2024-05-04T17:49:46.610447Z",
     "iopub.status.idle": "2024-05-04T17:49:46.763029Z",
     "shell.execute_reply": "2024-05-04T17:49:46.761700Z"
    },
    "papermill": {
     "duration": 0.169601,
     "end_time": "2024-05-04T17:49:46.766340",
     "exception": false,
     "start_time": "2024-05-04T17:49:46.596739",
     "status": "completed"
    },
    "tags": []
   },
   "outputs": [],
   "source": [
    "from sklearn.model_selection import train_test_split\n",
    "X_train, X_test, Y_train, Y_test = train_test_split(X,Y, test_size = 0.2, random_state = 2)"
   ]
  },
  {
   "cell_type": "code",
   "execution_count": 14,
   "id": "65f98ca8",
   "metadata": {
    "execution": {
     "iopub.execute_input": "2024-05-04T17:49:46.792028Z",
     "iopub.status.busy": "2024-05-04T17:49:46.791314Z",
     "iopub.status.idle": "2024-05-04T17:49:46.800502Z",
     "shell.execute_reply": "2024-05-04T17:49:46.799166Z"
    },
    "papermill": {
     "duration": 0.025051,
     "end_time": "2024-05-04T17:49:46.803156",
     "exception": false,
     "start_time": "2024-05-04T17:49:46.778105",
     "status": "completed"
    },
    "tags": []
   },
   "outputs": [
    {
     "data": {
      "text/plain": [
       "(120, 7)"
      ]
     },
     "execution_count": 14,
     "metadata": {},
     "output_type": "execute_result"
    }
   ],
   "source": [
    "X_train.shape"
   ]
  },
  {
   "cell_type": "code",
   "execution_count": 15,
   "id": "ffdde60e",
   "metadata": {
    "execution": {
     "iopub.execute_input": "2024-05-04T17:49:46.830196Z",
     "iopub.status.busy": "2024-05-04T17:49:46.829224Z",
     "iopub.status.idle": "2024-05-04T17:49:46.836566Z",
     "shell.execute_reply": "2024-05-04T17:49:46.835681Z"
    },
    "papermill": {
     "duration": 0.023018,
     "end_time": "2024-05-04T17:49:46.838921",
     "exception": false,
     "start_time": "2024-05-04T17:49:46.815903",
     "status": "completed"
    },
    "tags": []
   },
   "outputs": [
    {
     "data": {
      "text/plain": [
       "(31, 7)"
      ]
     },
     "execution_count": 15,
     "metadata": {},
     "output_type": "execute_result"
    }
   ],
   "source": [
    "X_test.shape"
   ]
  },
  {
   "cell_type": "code",
   "execution_count": 16,
   "id": "b6e33cf6",
   "metadata": {
    "execution": {
     "iopub.execute_input": "2024-05-04T17:49:46.867990Z",
     "iopub.status.busy": "2024-05-04T17:49:46.867604Z",
     "iopub.status.idle": "2024-05-04T17:49:46.874735Z",
     "shell.execute_reply": "2024-05-04T17:49:46.873207Z"
    },
    "papermill": {
     "duration": 0.025444,
     "end_time": "2024-05-04T17:49:46.877595",
     "exception": false,
     "start_time": "2024-05-04T17:49:46.852151",
     "status": "completed"
    },
    "tags": []
   },
   "outputs": [
    {
     "data": {
      "text/plain": [
       "(120,)"
      ]
     },
     "execution_count": 16,
     "metadata": {},
     "output_type": "execute_result"
    }
   ],
   "source": [
    "Y_train.shape"
   ]
  },
  {
   "cell_type": "code",
   "execution_count": 17,
   "id": "34620719",
   "metadata": {
    "execution": {
     "iopub.execute_input": "2024-05-04T17:49:46.904463Z",
     "iopub.status.busy": "2024-05-04T17:49:46.903976Z",
     "iopub.status.idle": "2024-05-04T17:49:46.912698Z",
     "shell.execute_reply": "2024-05-04T17:49:46.910804Z"
    },
    "papermill": {
     "duration": 0.025578,
     "end_time": "2024-05-04T17:49:46.915476",
     "exception": false,
     "start_time": "2024-05-04T17:49:46.889898",
     "status": "completed"
    },
    "tags": []
   },
   "outputs": [
    {
     "data": {
      "text/plain": [
       "(31,)"
      ]
     },
     "execution_count": 17,
     "metadata": {},
     "output_type": "execute_result"
    }
   ],
   "source": [
    "Y_test.shape"
   ]
  },
  {
   "cell_type": "code",
   "execution_count": 18,
   "id": "bd1a51f4",
   "metadata": {
    "execution": {
     "iopub.execute_input": "2024-05-04T17:49:46.942495Z",
     "iopub.status.busy": "2024-05-04T17:49:46.941995Z",
     "iopub.status.idle": "2024-05-04T17:49:46.948186Z",
     "shell.execute_reply": "2024-05-04T17:49:46.946750Z"
    },
    "papermill": {
     "duration": 0.022655,
     "end_time": "2024-05-04T17:49:46.950974",
     "exception": false,
     "start_time": "2024-05-04T17:49:46.928319",
     "status": "completed"
    },
    "tags": []
   },
   "outputs": [],
   "source": [
    "from sklearn.preprocessing import StandardScaler\n",
    "scaler = StandardScaler()"
   ]
  },
  {
   "cell_type": "code",
   "execution_count": 19,
   "id": "53eee142",
   "metadata": {
    "execution": {
     "iopub.execute_input": "2024-05-04T17:49:46.978240Z",
     "iopub.status.busy": "2024-05-04T17:49:46.977788Z",
     "iopub.status.idle": "2024-05-04T17:49:46.990732Z",
     "shell.execute_reply": "2024-05-04T17:49:46.989477Z"
    },
    "papermill": {
     "duration": 0.029966,
     "end_time": "2024-05-04T17:49:46.993496",
     "exception": false,
     "start_time": "2024-05-04T17:49:46.963530",
     "status": "completed"
    },
    "tags": []
   },
   "outputs": [],
   "source": [
    "X_train = scaler.fit_transform(X_train)\n",
    "X_test = scaler.transform(X_test)"
   ]
  },
  {
   "cell_type": "code",
   "execution_count": 20,
   "id": "3545e3af",
   "metadata": {
    "execution": {
     "iopub.execute_input": "2024-05-04T17:49:47.020659Z",
     "iopub.status.busy": "2024-05-04T17:49:47.020219Z",
     "iopub.status.idle": "2024-05-04T17:49:47.174805Z",
     "shell.execute_reply": "2024-05-04T17:49:47.173603Z"
    },
    "papermill": {
     "duration": 0.171467,
     "end_time": "2024-05-04T17:49:47.177973",
     "exception": false,
     "start_time": "2024-05-04T17:49:47.006506",
     "status": "completed"
    },
    "tags": []
   },
   "outputs": [],
   "source": [
    "from sklearn.linear_model import LinearRegression\n"
   ]
  },
  {
   "cell_type": "code",
   "execution_count": 21,
   "id": "68ff9510",
   "metadata": {
    "execution": {
     "iopub.execute_input": "2024-05-04T17:49:47.204627Z",
     "iopub.status.busy": "2024-05-04T17:49:47.204204Z",
     "iopub.status.idle": "2024-05-04T17:49:47.239624Z",
     "shell.execute_reply": "2024-05-04T17:49:47.238347Z"
    },
    "papermill": {
     "duration": 0.051759,
     "end_time": "2024-05-04T17:49:47.242246",
     "exception": false,
     "start_time": "2024-05-04T17:49:47.190487",
     "status": "completed"
    },
    "tags": []
   },
   "outputs": [
    {
     "data": {
      "text/html": [
       "<style>#sk-container-id-1 {color: black;background-color: white;}#sk-container-id-1 pre{padding: 0;}#sk-container-id-1 div.sk-toggleable {background-color: white;}#sk-container-id-1 label.sk-toggleable__label {cursor: pointer;display: block;width: 100%;margin-bottom: 0;padding: 0.3em;box-sizing: border-box;text-align: center;}#sk-container-id-1 label.sk-toggleable__label-arrow:before {content: \"▸\";float: left;margin-right: 0.25em;color: #696969;}#sk-container-id-1 label.sk-toggleable__label-arrow:hover:before {color: black;}#sk-container-id-1 div.sk-estimator:hover label.sk-toggleable__label-arrow:before {color: black;}#sk-container-id-1 div.sk-toggleable__content {max-height: 0;max-width: 0;overflow: hidden;text-align: left;background-color: #f0f8ff;}#sk-container-id-1 div.sk-toggleable__content pre {margin: 0.2em;color: black;border-radius: 0.25em;background-color: #f0f8ff;}#sk-container-id-1 input.sk-toggleable__control:checked~div.sk-toggleable__content {max-height: 200px;max-width: 100%;overflow: auto;}#sk-container-id-1 input.sk-toggleable__control:checked~label.sk-toggleable__label-arrow:before {content: \"▾\";}#sk-container-id-1 div.sk-estimator input.sk-toggleable__control:checked~label.sk-toggleable__label {background-color: #d4ebff;}#sk-container-id-1 div.sk-label input.sk-toggleable__control:checked~label.sk-toggleable__label {background-color: #d4ebff;}#sk-container-id-1 input.sk-hidden--visually {border: 0;clip: rect(1px 1px 1px 1px);clip: rect(1px, 1px, 1px, 1px);height: 1px;margin: -1px;overflow: hidden;padding: 0;position: absolute;width: 1px;}#sk-container-id-1 div.sk-estimator {font-family: monospace;background-color: #f0f8ff;border: 1px dotted black;border-radius: 0.25em;box-sizing: border-box;margin-bottom: 0.5em;}#sk-container-id-1 div.sk-estimator:hover {background-color: #d4ebff;}#sk-container-id-1 div.sk-parallel-item::after {content: \"\";width: 100%;border-bottom: 1px solid gray;flex-grow: 1;}#sk-container-id-1 div.sk-label:hover label.sk-toggleable__label {background-color: #d4ebff;}#sk-container-id-1 div.sk-serial::before {content: \"\";position: absolute;border-left: 1px solid gray;box-sizing: border-box;top: 0;bottom: 0;left: 50%;z-index: 0;}#sk-container-id-1 div.sk-serial {display: flex;flex-direction: column;align-items: center;background-color: white;padding-right: 0.2em;padding-left: 0.2em;position: relative;}#sk-container-id-1 div.sk-item {position: relative;z-index: 1;}#sk-container-id-1 div.sk-parallel {display: flex;align-items: stretch;justify-content: center;background-color: white;position: relative;}#sk-container-id-1 div.sk-item::before, #sk-container-id-1 div.sk-parallel-item::before {content: \"\";position: absolute;border-left: 1px solid gray;box-sizing: border-box;top: 0;bottom: 0;left: 50%;z-index: -1;}#sk-container-id-1 div.sk-parallel-item {display: flex;flex-direction: column;z-index: 1;position: relative;background-color: white;}#sk-container-id-1 div.sk-parallel-item:first-child::after {align-self: flex-end;width: 50%;}#sk-container-id-1 div.sk-parallel-item:last-child::after {align-self: flex-start;width: 50%;}#sk-container-id-1 div.sk-parallel-item:only-child::after {width: 0;}#sk-container-id-1 div.sk-dashed-wrapped {border: 1px dashed gray;margin: 0 0.4em 0.5em 0.4em;box-sizing: border-box;padding-bottom: 0.4em;background-color: white;}#sk-container-id-1 div.sk-label label {font-family: monospace;font-weight: bold;display: inline-block;line-height: 1.2em;}#sk-container-id-1 div.sk-label-container {text-align: center;}#sk-container-id-1 div.sk-container {/* jupyter's `normalize.less` sets `[hidden] { display: none; }` but bootstrap.min.css set `[hidden] { display: none !important; }` so we also need the `!important` here to be able to override the default hidden behavior on the sphinx rendered scikit-learn.org. See: https://github.com/scikit-learn/scikit-learn/issues/21755 */display: inline-block !important;position: relative;}#sk-container-id-1 div.sk-text-repr-fallback {display: none;}</style><div id=\"sk-container-id-1\" class=\"sk-top-container\"><div class=\"sk-text-repr-fallback\"><pre>LinearRegression()</pre><b>In a Jupyter environment, please rerun this cell to show the HTML representation or trust the notebook. <br />On GitHub, the HTML representation is unable to render, please try loading this page with nbviewer.org.</b></div><div class=\"sk-container\" hidden><div class=\"sk-item\"><div class=\"sk-estimator sk-toggleable\"><input class=\"sk-toggleable__control sk-hidden--visually\" id=\"sk-estimator-id-1\" type=\"checkbox\" checked><label for=\"sk-estimator-id-1\" class=\"sk-toggleable__label sk-toggleable__label-arrow\">LinearRegression</label><div class=\"sk-toggleable__content\"><pre>LinearRegression()</pre></div></div></div></div></div>"
      ],
      "text/plain": [
       "LinearRegression()"
      ]
     },
     "execution_count": 21,
     "metadata": {},
     "output_type": "execute_result"
    }
   ],
   "source": [
    "regression = LinearRegression()\n",
    "regression.fit(X_train,Y_train)"
   ]
  },
  {
   "cell_type": "code",
   "execution_count": null,
   "id": "bf8fd7ac",
   "metadata": {
    "papermill": {
     "duration": 0.014148,
     "end_time": "2024-05-04T17:49:47.269844",
     "exception": false,
     "start_time": "2024-05-04T17:49:47.255696",
     "status": "completed"
    },
    "tags": []
   },
   "outputs": [],
   "source": []
  },
  {
   "cell_type": "code",
   "execution_count": 22,
   "id": "4f69d7c2",
   "metadata": {
    "execution": {
     "iopub.execute_input": "2024-05-04T17:49:47.298260Z",
     "iopub.status.busy": "2024-05-04T17:49:47.297822Z",
     "iopub.status.idle": "2024-05-04T17:49:47.303744Z",
     "shell.execute_reply": "2024-05-04T17:49:47.302546Z"
    },
    "papermill": {
     "duration": 0.023445,
     "end_time": "2024-05-04T17:49:47.306236",
     "exception": false,
     "start_time": "2024-05-04T17:49:47.282791",
     "status": "completed"
    },
    "tags": []
   },
   "outputs": [],
   "source": [
    "reg_predict = regression.predict(X_test)"
   ]
  },
  {
   "cell_type": "code",
   "execution_count": 23,
   "id": "2c81bfe1",
   "metadata": {
    "execution": {
     "iopub.execute_input": "2024-05-04T17:49:47.334921Z",
     "iopub.status.busy": "2024-05-04T17:49:47.334188Z",
     "iopub.status.idle": "2024-05-04T17:49:47.340398Z",
     "shell.execute_reply": "2024-05-04T17:49:47.338846Z"
    },
    "papermill": {
     "duration": 0.024463,
     "end_time": "2024-05-04T17:49:47.343429",
     "exception": false,
     "start_time": "2024-05-04T17:49:47.318966",
     "status": "completed"
    },
    "tags": []
   },
   "outputs": [],
   "source": [
    "import warnings \n",
    "warnings.filterwarnings('ignore')"
   ]
  },
  {
   "cell_type": "code",
   "execution_count": 24,
   "id": "c8971c03",
   "metadata": {
    "execution": {
     "iopub.execute_input": "2024-05-04T17:49:47.374325Z",
     "iopub.status.busy": "2024-05-04T17:49:47.373282Z",
     "iopub.status.idle": "2024-05-04T17:49:47.740950Z",
     "shell.execute_reply": "2024-05-04T17:49:47.739568Z"
    },
    "papermill": {
     "duration": 0.384411,
     "end_time": "2024-05-04T17:49:47.743625",
     "exception": false,
     "start_time": "2024-05-04T17:49:47.359214",
     "status": "completed"
    },
    "tags": []
   },
   "outputs": [
    {
     "data": {
      "text/plain": [
       "<Axes: xlabel='Combat Power', ylabel='Density'>"
      ]
     },
     "execution_count": 24,
     "metadata": {},
     "output_type": "execute_result"
    },
    {
     "data": {
      "image/png": "[encoded data removed]",
      "text/plain": [
       "<Figure size 640x480 with 1 Axes>"
      ]
     },
     "metadata": {},
     "output_type": "display_data"
    }
   ],
   "source": [
    "sns.distplot(reg_predict-Y_test, kde = True)"
   ]
  },
  {
   "cell_type": "code",
   "execution_count": 25,
   "id": "a34ef390",
   "metadata": {
    "execution": {
     "iopub.execute_input": "2024-05-04T17:49:47.782721Z",
     "iopub.status.busy": "2024-05-04T17:49:47.782048Z",
     "iopub.status.idle": "2024-05-04T17:49:47.794880Z",
     "shell.execute_reply": "2024-05-04T17:49:47.792304Z"
    },
    "papermill": {
     "duration": 0.039045,
     "end_time": "2024-05-04T17:49:47.799371",
     "exception": false,
     "start_time": "2024-05-04T17:49:47.760326",
     "status": "completed"
    },
    "tags": []
   },
   "outputs": [
    {
     "name": "stdout",
     "output_type": "stream",
     "text": [
      "Accuracy =  78.19 %\n"
     ]
    }
   ],
   "source": [
    "from sklearn.metrics import r2_score\n",
    "score = r2_score(reg_predict, Y_test)\n",
    "print(\"Accuracy = \", float(\"{:.2f}\".format(score*100)), \"%\")"
   ]
  },
  {
   "cell_type": "code",
   "execution_count": 26,
   "id": "cc009b01",
   "metadata": {
    "execution": {
     "iopub.execute_input": "2024-05-04T17:49:47.836763Z",
     "iopub.status.busy": "2024-05-04T17:49:47.836263Z",
     "iopub.status.idle": "2024-05-04T17:49:48.167325Z",
     "shell.execute_reply": "2024-05-04T17:49:48.165738Z"
    },
    "papermill": {
     "duration": 0.352962,
     "end_time": "2024-05-04T17:49:48.169971",
     "exception": false,
     "start_time": "2024-05-04T17:49:47.817009",
     "status": "completed"
    },
    "tags": []
   },
   "outputs": [
    {
     "name": "stdout",
     "output_type": "stream",
     "text": [
      "Boosted accuracy =  81.3 %\n"
     ]
    }
   ],
   "source": [
    "from sklearn.ensemble import GradientBoostingRegressor\n",
    "gbr = GradientBoostingRegressor(random_state=0)\n",
    "gbr.fit(X_train, Y_train)\n",
    "boosted_score = gbr.score(X_test, Y_test)\n",
    "print(\"Boosted accuracy = \", float(\"{:.2f}\".format(boosted_score*100)), \"%\")"
   ]
  },
  {
   "cell_type": "code",
   "execution_count": null,
   "id": "fd8b3d3c",
   "metadata": {
    "papermill": {
     "duration": 0.013594,
     "end_time": "2024-05-04T17:49:48.198411",
     "exception": false,
     "start_time": "2024-05-04T17:49:48.184817",
     "status": "completed"
    },
    "tags": []
   },
   "outputs": [],
   "source": []
  },
  {
   "cell_type": "code",
   "execution_count": null,
   "id": "97541c88",
   "metadata": {
    "papermill": {
     "duration": 0.013808,
     "end_time": "2024-05-04T17:49:48.226497",
     "exception": false,
     "start_time": "2024-05-04T17:49:48.212689",
     "status": "completed"
    },
    "tags": []
   },
   "outputs": [],
   "source": []
  }
 ],
 "metadata": {
  "kaggle": {
   "accelerator": "none",
   "dataSources": [
    {
     "datasetId": 4884028,
     "sourceId": 8234751,
     "sourceType": "datasetVersion"
    }
   ],
   "dockerImageVersionId": 30698,
   "isGpuEnabled": false,
   "isInternetEnabled": false,
   "language": "python",
   "sourceType": "notebook"
  },
  "kernelspec": {
   "display_name": "Python 3",
   "language": "python",
   "name": "python3"
  },
  "language_info": {
   "codemirror_mode": {
    "name": "ipython",
    "version": 3
   },
   "file_extension": ".py",
   "mimetype": "text/x-python",
   "name": "python",
   "nbconvert_exporter": "python",
   "pygments_lexer": "ipython3",
   "version": "3.10.13"
  },
  "papermill": {
   "default_parameters": {},
   "duration": 10.087776,
   "end_time": "2024-05-04T17:49:48.967666",
   "environment_variables": {},
   "exception": null,
   "input_path": "__notebook__.ipynb",
   "output_path": "__notebook__.ipynb",
   "parameters": {},
   "start_time": "2024-05-04T17:49:38.879890",
   "version": "2.5.0"
  }
 },
 "nbformat": 4,
 "nbformat_minor": 5
}
